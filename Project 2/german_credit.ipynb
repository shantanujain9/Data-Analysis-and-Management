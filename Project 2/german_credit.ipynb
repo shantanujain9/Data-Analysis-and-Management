# Problem 2: German Credit Dataset (72 points)

##### Please note: If any cells give error, that means the notebook was not run properly, please re-run the cells in cronological order.

## Preprocessing (31 pts)

import pandas as pd
df = pd.read_csv(r'GermanCredit.csv') 

1. [8 pts] Drop the 3 columns that contribute the least to the dataset. These would be the columns with the highest number of non-zero 'none' values. Break ties by going left to right in columns. (Your code should be generalizable to drop n columns, but for the rest of the analysis, you can call your code for n=3.)

number_of_columns_to_be_dropped = 3                                 #Number of Columns to be dropped is set to 3
temp_df = df[df[:] == 'none'].count().sort_values(ascending=False)  #Sort the name of columns in desending order on basis on 'none' value
for x in range(number_of_columns_to_be_dropped):                    #Drop the top x number of columns 
    df.drop([temp_df.keys()[x]],axis=1, inplace=True)
df

2. [4 pts] Certain values in some of the columns contain unnecessary apostrophes (‘). Remove the apostrophes.

df.replace('\'','', regex=True, inplace=True)
df

3. [5 pts] The checking_status column has values in 4 categories: 'no checking', '<0', '0<=X<200', and '>=200'. Change these to 'No Checking', 'Low', 'Medium', and 'High' respectively.

df.loc[df['checking_status'] == 'no checking','checking_status']= 'No Checking'
df.loc[df['checking_status'] == '<0','checking_status']='Low'
df.loc[df['checking_status'] == '0<=X<200','checking_status']='Medium'
df.loc[df['checking_status'] == '>=200','checking_status']='High'
df    #If it throws error, that means the notebook was not run properly, please run above cells again in cronological order.

4. [5 pts] The savings_status column has values in 4 categories: 'no known savings', '<100', '100<=X<500', '500<=X<1000', and '>=1000'. Change these to 'No Savings', 'Low', 'Medium', 'High', and 'High' respectively. (Yes, the last two are both 'High').

df.loc[df['savings_status'] == 'no known savings','savings_status']= 'No Savings'
df.loc[df['savings_status'] == '<100','savings_status']= 'Low'
df.loc[df['savings_status'] == '100<=X<500','savings_status']= 'Medium'
df.loc[df['savings_status'] == '500<=X<1000','savings_status']= 'High'
df.loc[df['savings_status'] == '>=1000','savings_status']= 'High'
df

5. [4 pts] Change class column values from 'good' to '1' and 'bad' to '0'

df.loc[df['class'] == 'good','class']= 1
df.loc[df['class'] == 'bad','class']= 0
df

6. [5 pts] Change the employment column value 'unemployed' to 'Unemployed', and for the others, change to 'Amateur', 'Professional', 'Experienced' and 'Expert', depending on year range.

df.loc[df['employment'] == 'unemployed','employment'] = 'Unemployed'
df.loc[df['employment'] == '<1','employment'] = 'Amateur'
df.loc[df['employment'] == '1<=X<4','employment'] = 'Professional'
df.loc[df['employment'] == '4<=X<7','employment'] = 'Experienced'
df.loc[df['employment'] == '>=7','employment'] = 'Expert'
df

## Analysis (17 pts)

 For the following tasks, do preprocessing or changing of data types in the data frame as required.

1. [5 pts] Often we need to find correlations between categorical attributes, i.e. attributes that have values that fall in one of several categories, such as "yes"/"no" for attr1, or "low","medium","high" for attr2.

   a. [3 pts] Get the count of each category of foreign workers (yes and no) for each class of credit (good and bad).
   



pd.crosstab(df.foreign_worker,df['class'])  

b. [2 pts] Similarly, get the count of each category of employment for each category of saving_status.

pd.crosstab(df.employment,df.savings_status)

2. [4 pts] Find the average credit_amount of single males that have 4<=X<7 years of employment. You can leave the raw result as is, no need for rounding.

df.loc[(df['personal_status'] == 'male single') & (df['employment']== 'Experienced')]['credit_amount'].mean()

3. [4 pts] Find the average credit duration for each of the job types. You can leave the raw result as is, no need for rounding.

df.groupby(['job']).mean()['duration']

4. [4 pts] For the purpose 'education', what is the most common checking_status and savings_status? Your code should print:

df_new = df.loc[df['purpose'] == 'education']
most_common_checking_status = df_new['checking_status'].mode()
print("Most common checking status:", most_common_checking_status.item())  
most_common_savings_status = df_new['savings_status'].mode()
print("Most common savings status:", most_common_savings_status.item()) 

## Visualization (24 pts)

1. [9 pts] Plot subplots of two histograms: one with savings_status on the x-axis and personal_status as different colors, and another with checking_status on the x-axis and personal_status as different colors.

pd.crosstab(df.savings_status,df.personal_status).plot(kind='bar',ylabel='number of people')
pd.crosstab(df.checking_status,df.personal_status).plot(kind='bar',ylabel='number of people')

#fig1, ax1 = plt.subplots()
#ax1.plot(pd.crosstab(df.checking_status,df.personal_status))

2. [9 pts] For people having credit_amount more than 4000, plot a bar graph which maps property_magnitude (x-axis) to the average customer age for that magnitude (y-axis).

df[df['credit_amount'] > 4000].groupby(['property_magnitude']).mean()['age'].plot(kind='bar',ylabel='Age')

3. [6 pts] For people with a "High" savings_status and age above 40, use subplots to plot the following pie charts: <br>
    a. Personal status <br>
    b. Credit history <br>
    c. Job

import matplotlib.pyplot as plt
graph_df = df.loc[(df['savings_status']=='High') & (df['age']>40)]

fig, ax = plt.subplots(1,3)
fig.set_size_inches(18,5)
ax[0].pie(graph_df['personal_status'].value_counts(), labels = ["male single","female div/dep/mar","male mar/wid","male div/sep"])
ax[1].pie(graph_df['credit_history'].value_counts(), labels = ["existing paid","critical/other existing credit","delayed previously","all paid"])
ax[2].pie(graph_df['job'].value_counts(), labels = ["skilled","unskilled resident","high qualif/self emp/mgmt","unemp/unskilled non res"])
ax[0].legend()
ax[1].legend()
ax[2].legend()
plt.show()
